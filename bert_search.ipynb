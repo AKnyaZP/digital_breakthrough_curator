{
  "cells": [
    {
      "cell_type": "code",
      "source": [
        "# %%capture\n",
        "# !pip install pyspellchecker\n",
        "# !pip install nlpaug"
      ],
      "metadata": {
        "id": "VSeTr3fTaPUF"
      },
      "id": "VSeTr3fTaPUF",
      "execution_count": 39,
      "outputs": []
    },
    {
      "cell_type": "code",
      "execution_count": 11,
      "id": "a7759fe8-a0c7-4252-bea7-e50d42097b6b",
      "metadata": {
        "id": "a7759fe8-a0c7-4252-bea7-e50d42097b6b"
      },
      "outputs": [],
      "source": [
        "import torch\n",
        "from transformers import AutoTokenizer, AutoModel\n",
        "from nlpaug.augmenter.word import SynonymAug\n",
        "from spellchecker import SpellChecker"
      ]
    },
    {
      "cell_type": "code",
      "execution_count": 20,
      "id": "949af98d-930d-4a6b-a4aa-f0af11193326",
      "metadata": {
        "id": "949af98d-930d-4a6b-a4aa-f0af11193326"
      },
      "outputs": [],
      "source": [
        "# Load hunspell for Russian language\n",
        "spell = SpellChecker(language='ru', distance=2)\n",
        "\n",
        "# Load the RuRoberta-large model and tokenizer\n",
        "tokenizer = AutoTokenizer.from_pretrained(\"cointegrated/rubert-tiny2\")\n",
        "model = AutoModel.from_pretrained(\"cointegrated/rubert-tiny2\")\n",
        "if torch.cuda.is_available():\n",
        "    model.cuda()"
      ]
    },
    {
      "cell_type": "code",
      "execution_count": 36,
      "id": "303c24bf-0b8a-4c4a-8f04-17c7605580fb",
      "metadata": {
        "id": "303c24bf-0b8a-4c4a-8f04-17c7605580fb"
      },
      "outputs": [],
      "source": [
        "def correct_typos(text):\n",
        "    corrected_text = []\n",
        "    misspelled = spell.unknown(text.split())\n",
        "    for word in text.split():\n",
        "        if word not in misspelled or spell.correction(word) is None:\n",
        "            corrected_text.append(word)\n",
        "        else:\n",
        "            corrected_text.append(spell.correction(word))\n",
        "        print(corrected_text)\n",
        "    return ' '.join(corrected_text)\n",
        "\n",
        "def embed_bert_cls(text, model, tokenizer):\n",
        "    t = tokenizer(text, padding=True, truncation=True, return_tensors='pt')\n",
        "    with torch.no_grad():\n",
        "        model_output = model(**{k: v.to(model.device) for k, v in t.items()})\n",
        "    embeddings = model_output.last_hidden_state[:, 0, :]\n",
        "    embeddings = torch.nn.functional.normalize(embeddings)\n",
        "    return embeddings[0]\n",
        "\n",
        "def augment_text(text):\n",
        "    aug = SynonymAug(aug_src='wordnet')\n",
        "    augmented_texts = aug.augment(text)\n",
        "    return augmented_texts"
      ]
    },
    {
      "cell_type": "code",
      "execution_count": 40,
      "id": "258a08c1-56af-4e66-9074-b76d1b9c170b",
      "metadata": {
        "id": "258a08c1-56af-4e66-9074-b76d1b9c170b"
      },
      "outputs": [],
      "source": [
        "# Assume you have a list of questions with typos\n",
        "questions_with_typos = [\n",
        "    \"Что делать, если я хочу измнить группу или специализацию во ввремя обучения?\",\n",
        "    \"\"\"\n",
        "    Мы можем перевести вас в другую группу в рамках срока обучения и дополнительных 6 месяцев сверху. Срок обучения отсчитывается с даты оплаты обучения.\n",
        "Количество переводов зависит от срока программы:\n",
        "\n",
        "Если ваш продукт предусматривает возможность выбора специализации:\n",
        "12 месяцев — 1 перевод на каждый блок обучения, суммарно 3 перевода на весь срок обучения.\n",
        "24 месяца — 1 перевод на каждый блок обучения, суммарно 4 перевода на весь срок обучения.\n",
        "36 месяцев — 1 перевод на каждый блок обучения, суммарно 4 перевода на весь срок обучения.\n",
        "Если ваш продукт не предусматривает возможность выбора специализации:\n",
        "6 месяцев — 1 перевод на все время обучения.\n",
        "9 месяцев — 1 перевод на все время обучения.\n",
        "12 месяцев — 2 перевода на все время обучения.\n",
        "Узнать о сроках обучения и специализациях можно из программы обучения на странице вашего продукта.\n",
        "    \"\"\"\n",
        "]"
      ]
    },
    {
      "cell_type": "code",
      "execution_count": 48,
      "id": "08dc4e90-bf2b-4d8e-a8b1-19b5531b45c1",
      "metadata": {
        "id": "08dc4e90-bf2b-4d8e-a8b1-19b5531b45c1"
      },
      "outputs": [],
      "source": [
        "question_embeddings = []\n",
        "\n",
        "\n",
        "for question in questions_with_typos:\n",
        "    corrected_question = (question) # correct_typos\n",
        "\n",
        "    question_embedding = embed_bert_cls(corrected_question, model, tokenizer)\n",
        "\n",
        "    augmented_questions = augment_text(corrected_question)\n",
        "    augmented_embeddings = [embed_bert_cls(aug_text, model, tokenizer) for aug_text in augmented_questions]\n",
        "\n",
        "    averaged_embedding = torch.mean(torch.stack([question_embedding] + augmented_embeddings), dim=0).cpu().numpy()\n",
        "    question_embeddings.append(averaged_embedding)"
      ]
    },
    {
      "cell_type": "code",
      "execution_count": 51,
      "id": "e2a1c033-64a3-4f59-9d25-b83e2aaffdf0",
      "metadata": {
        "colab": {
          "base_uri": "https://localhost:8080/"
        },
        "id": "e2a1c033-64a3-4f59-9d25-b83e2aaffdf0",
        "outputId": "e63c0415-96d9-45eb-b5be-aeff62f4c958"
      },
      "outputs": [
        {
          "output_type": "execute_result",
          "data": {
            "text/plain": [
              "0.55581576"
            ]
          },
          "metadata": {},
          "execution_count": 51
        }
      ],
      "source": [
        "# The (a?) dumb way\n",
        "question_embeddings[0] @ question_embeddings[1]"
      ]
    },
    {
      "cell_type": "code",
      "execution_count": null,
      "id": "9fa0a5e9-b747-4839-8a99-80c12e8944ba",
      "metadata": {
        "id": "9fa0a5e9-b747-4839-8a99-80c12e8944ba"
      },
      "outputs": [],
      "source": []
    }
  ],
  "metadata": {
    "kernelspec": {
      "display_name": "Python 3 (ipykernel)",
      "language": "python",
      "name": "python3"
    },
    "language_info": {
      "codemirror_mode": {
        "name": "ipython",
        "version": 3
      },
      "file_extension": ".py",
      "mimetype": "text/x-python",
      "name": "python",
      "nbconvert_exporter": "python",
      "pygments_lexer": "ipython3",
      "version": "3.12.1"
    },
    "colab": {
      "provenance": []
    }
  },
  "nbformat": 4,
  "nbformat_minor": 5
}